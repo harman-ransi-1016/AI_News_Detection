{
  "nbformat": 4,
  "nbformat_minor": 0,
  "metadata": {
    "colab": {
      "provenance": [],
      "mount_file_id": "1dyK1Z_U7gzx1AelBd_LuVnGXPqJNlyQi",
      "authorship_tag": "ABX9TyMBZM9e6Ov8Ka3hR8zhRuiU",
      "include_colab_link": true
    },
    "kernelspec": {
      "name": "python3",
      "display_name": "Python 3"
    },
    "language_info": {
      "name": "python"
    }
  },
  "cells": [
    {
      "cell_type": "markdown",
      "metadata": {
        "id": "view-in-github",
        "colab_type": "text"
      },
      "source": [
        "<a href=\"https://colab.research.google.com/github/harman-ransi-1016/AI_News_Detection/blob/main/SVM_GridSearch.ipynb\" target=\"_parent\"><img src=\"https://colab.research.google.com/assets/colab-badge.svg\" alt=\"Open In Colab\"/></a>"
      ]
    },
    {
      "cell_type": "markdown",
      "source": [
        "# Imports / Dataset"
      ],
      "metadata": {
        "id": "6xeJfmSZBxJP"
      }
    },
    {
      "cell_type": "code",
      "execution_count": null,
      "metadata": {
        "colab": {
          "base_uri": "https://localhost:8080/",
          "height": 206
        },
        "id": "kElCmqutA_lA",
        "outputId": "530f23e7-3b3b-4d38-962d-48b2a8ff48d6"
      },
      "outputs": [
        {
          "output_type": "execute_result",
          "data": {
            "text/plain": [
              "  Class Section                                       Article text  \\\n",
              "0  Real   sport   Nike is to shut down its elite Oregon Project...   \n",
              "1    AI   sport  Nike has announced that it will be closing dow...   \n",
              "2    AI      us  Country singer Kenny Chesney expressed his dee...   \n",
              "3  Real      us   Country singer Kenny Chesney said Tuesday tha...   \n",
              "4  Real      uk   A farmer was crushed to death last year when ...   \n",
              "\n",
              "   Average Word Length  Flesch Reading Ease  Flesch-Kincaid Grade Level  \\\n",
              "0             5.059406                54.26                        12.0   \n",
              "1             5.212025                58.52                        10.3   \n",
              "2             5.070588                64.51                         8.0   \n",
              "3             4.504608                68.81                         8.5   \n",
              "4             4.714286                62.51                        10.9   \n",
              "\n",
              "   Coleman-Liau Index  Gunning Fog Index  \n",
              "0               11.44              13.95  \n",
              "1               12.24              13.00  \n",
              "2               10.61              10.60  \n",
              "3                8.18              10.07  \n",
              "4                9.46              12.97  "
            ],
            "text/html": [
              "\n",
              "  <div id=\"df-58df2b62-5ebf-4cd3-8a24-0ce7dcee82d6\" class=\"colab-df-container\">\n",
              "    <div>\n",
              "<style scoped>\n",
              "    .dataframe tbody tr th:only-of-type {\n",
              "        vertical-align: middle;\n",
              "    }\n",
              "\n",
              "    .dataframe tbody tr th {\n",
              "        vertical-align: top;\n",
              "    }\n",
              "\n",
              "    .dataframe thead th {\n",
              "        text-align: right;\n",
              "    }\n",
              "</style>\n",
              "<table border=\"1\" class=\"dataframe\">\n",
              "  <thead>\n",
              "    <tr style=\"text-align: right;\">\n",
              "      <th></th>\n",
              "      <th>Class</th>\n",
              "      <th>Section</th>\n",
              "      <th>Article text</th>\n",
              "      <th>Average Word Length</th>\n",
              "      <th>Flesch Reading Ease</th>\n",
              "      <th>Flesch-Kincaid Grade Level</th>\n",
              "      <th>Coleman-Liau Index</th>\n",
              "      <th>Gunning Fog Index</th>\n",
              "    </tr>\n",
              "  </thead>\n",
              "  <tbody>\n",
              "    <tr>\n",
              "      <th>0</th>\n",
              "      <td>Real</td>\n",
              "      <td>sport</td>\n",
              "      <td>Nike is to shut down its elite Oregon Project...</td>\n",
              "      <td>5.059406</td>\n",
              "      <td>54.26</td>\n",
              "      <td>12.0</td>\n",
              "      <td>11.44</td>\n",
              "      <td>13.95</td>\n",
              "    </tr>\n",
              "    <tr>\n",
              "      <th>1</th>\n",
              "      <td>AI</td>\n",
              "      <td>sport</td>\n",
              "      <td>Nike has announced that it will be closing dow...</td>\n",
              "      <td>5.212025</td>\n",
              "      <td>58.52</td>\n",
              "      <td>10.3</td>\n",
              "      <td>12.24</td>\n",
              "      <td>13.00</td>\n",
              "    </tr>\n",
              "    <tr>\n",
              "      <th>2</th>\n",
              "      <td>AI</td>\n",
              "      <td>us</td>\n",
              "      <td>Country singer Kenny Chesney expressed his dee...</td>\n",
              "      <td>5.070588</td>\n",
              "      <td>64.51</td>\n",
              "      <td>8.0</td>\n",
              "      <td>10.61</td>\n",
              "      <td>10.60</td>\n",
              "    </tr>\n",
              "    <tr>\n",
              "      <th>3</th>\n",
              "      <td>Real</td>\n",
              "      <td>us</td>\n",
              "      <td>Country singer Kenny Chesney said Tuesday tha...</td>\n",
              "      <td>4.504608</td>\n",
              "      <td>68.81</td>\n",
              "      <td>8.5</td>\n",
              "      <td>8.18</td>\n",
              "      <td>10.07</td>\n",
              "    </tr>\n",
              "    <tr>\n",
              "      <th>4</th>\n",
              "      <td>Real</td>\n",
              "      <td>uk</td>\n",
              "      <td>A farmer was crushed to death last year when ...</td>\n",
              "      <td>4.714286</td>\n",
              "      <td>62.51</td>\n",
              "      <td>10.9</td>\n",
              "      <td>9.46</td>\n",
              "      <td>12.97</td>\n",
              "    </tr>\n",
              "  </tbody>\n",
              "</table>\n",
              "</div>\n",
              "    <div class=\"colab-df-buttons\">\n",
              "\n",
              "  <div class=\"colab-df-container\">\n",
              "    <button class=\"colab-df-convert\" onclick=\"convertToInteractive('df-58df2b62-5ebf-4cd3-8a24-0ce7dcee82d6')\"\n",
              "            title=\"Convert this dataframe to an interactive table.\"\n",
              "            style=\"display:none;\">\n",
              "\n",
              "  <svg xmlns=\"http://www.w3.org/2000/svg\" height=\"24px\" viewBox=\"0 -960 960 960\">\n",
              "    <path d=\"M120-120v-720h720v720H120Zm60-500h600v-160H180v160Zm220 220h160v-160H400v160Zm0 220h160v-160H400v160ZM180-400h160v-160H180v160Zm440 0h160v-160H620v160ZM180-180h160v-160H180v160Zm440 0h160v-160H620v160Z\"/>\n",
              "  </svg>\n",
              "    </button>\n",
              "\n",
              "  <style>\n",
              "    .colab-df-container {\n",
              "      display:flex;\n",
              "      gap: 12px;\n",
              "    }\n",
              "\n",
              "    .colab-df-convert {\n",
              "      background-color: #E8F0FE;\n",
              "      border: none;\n",
              "      border-radius: 50%;\n",
              "      cursor: pointer;\n",
              "      display: none;\n",
              "      fill: #1967D2;\n",
              "      height: 32px;\n",
              "      padding: 0 0 0 0;\n",
              "      width: 32px;\n",
              "    }\n",
              "\n",
              "    .colab-df-convert:hover {\n",
              "      background-color: #E2EBFA;\n",
              "      box-shadow: 0px 1px 2px rgba(60, 64, 67, 0.3), 0px 1px 3px 1px rgba(60, 64, 67, 0.15);\n",
              "      fill: #174EA6;\n",
              "    }\n",
              "\n",
              "    .colab-df-buttons div {\n",
              "      margin-bottom: 4px;\n",
              "    }\n",
              "\n",
              "    [theme=dark] .colab-df-convert {\n",
              "      background-color: #3B4455;\n",
              "      fill: #D2E3FC;\n",
              "    }\n",
              "\n",
              "    [theme=dark] .colab-df-convert:hover {\n",
              "      background-color: #434B5C;\n",
              "      box-shadow: 0px 1px 3px 1px rgba(0, 0, 0, 0.15);\n",
              "      filter: drop-shadow(0px 1px 2px rgba(0, 0, 0, 0.3));\n",
              "      fill: #FFFFFF;\n",
              "    }\n",
              "  </style>\n",
              "\n",
              "    <script>\n",
              "      const buttonEl =\n",
              "        document.querySelector('#df-58df2b62-5ebf-4cd3-8a24-0ce7dcee82d6 button.colab-df-convert');\n",
              "      buttonEl.style.display =\n",
              "        google.colab.kernel.accessAllowed ? 'block' : 'none';\n",
              "\n",
              "      async function convertToInteractive(key) {\n",
              "        const element = document.querySelector('#df-58df2b62-5ebf-4cd3-8a24-0ce7dcee82d6');\n",
              "        const dataTable =\n",
              "          await google.colab.kernel.invokeFunction('convertToInteractive',\n",
              "                                                    [key], {});\n",
              "        if (!dataTable) return;\n",
              "\n",
              "        const docLinkHtml = 'Like what you see? Visit the ' +\n",
              "          '<a target=\"_blank\" href=https://colab.research.google.com/notebooks/data_table.ipynb>data table notebook</a>'\n",
              "          + ' to learn more about interactive tables.';\n",
              "        element.innerHTML = '';\n",
              "        dataTable['output_type'] = 'display_data';\n",
              "        await google.colab.output.renderOutput(dataTable, element);\n",
              "        const docLink = document.createElement('div');\n",
              "        docLink.innerHTML = docLinkHtml;\n",
              "        element.appendChild(docLink);\n",
              "      }\n",
              "    </script>\n",
              "  </div>\n",
              "\n",
              "\n",
              "<div id=\"df-88b4fb53-8cac-43d2-9f3a-dc396e916e03\">\n",
              "  <button class=\"colab-df-quickchart\" onclick=\"quickchart('df-88b4fb53-8cac-43d2-9f3a-dc396e916e03')\"\n",
              "            title=\"Suggest charts\"\n",
              "            style=\"display:none;\">\n",
              "\n",
              "<svg xmlns=\"http://www.w3.org/2000/svg\" height=\"24px\"viewBox=\"0 0 24 24\"\n",
              "     width=\"24px\">\n",
              "    <g>\n",
              "        <path d=\"M19 3H5c-1.1 0-2 .9-2 2v14c0 1.1.9 2 2 2h14c1.1 0 2-.9 2-2V5c0-1.1-.9-2-2-2zM9 17H7v-7h2v7zm4 0h-2V7h2v10zm4 0h-2v-4h2v4z\"/>\n",
              "    </g>\n",
              "</svg>\n",
              "  </button>\n",
              "\n",
              "<style>\n",
              "  .colab-df-quickchart {\n",
              "      --bg-color: #E8F0FE;\n",
              "      --fill-color: #1967D2;\n",
              "      --hover-bg-color: #E2EBFA;\n",
              "      --hover-fill-color: #174EA6;\n",
              "      --disabled-fill-color: #AAA;\n",
              "      --disabled-bg-color: #DDD;\n",
              "  }\n",
              "\n",
              "  [theme=dark] .colab-df-quickchart {\n",
              "      --bg-color: #3B4455;\n",
              "      --fill-color: #D2E3FC;\n",
              "      --hover-bg-color: #434B5C;\n",
              "      --hover-fill-color: #FFFFFF;\n",
              "      --disabled-bg-color: #3B4455;\n",
              "      --disabled-fill-color: #666;\n",
              "  }\n",
              "\n",
              "  .colab-df-quickchart {\n",
              "    background-color: var(--bg-color);\n",
              "    border: none;\n",
              "    border-radius: 50%;\n",
              "    cursor: pointer;\n",
              "    display: none;\n",
              "    fill: var(--fill-color);\n",
              "    height: 32px;\n",
              "    padding: 0;\n",
              "    width: 32px;\n",
              "  }\n",
              "\n",
              "  .colab-df-quickchart:hover {\n",
              "    background-color: var(--hover-bg-color);\n",
              "    box-shadow: 0 1px 2px rgba(60, 64, 67, 0.3), 0 1px 3px 1px rgba(60, 64, 67, 0.15);\n",
              "    fill: var(--button-hover-fill-color);\n",
              "  }\n",
              "\n",
              "  .colab-df-quickchart-complete:disabled,\n",
              "  .colab-df-quickchart-complete:disabled:hover {\n",
              "    background-color: var(--disabled-bg-color);\n",
              "    fill: var(--disabled-fill-color);\n",
              "    box-shadow: none;\n",
              "  }\n",
              "\n",
              "  .colab-df-spinner {\n",
              "    border: 2px solid var(--fill-color);\n",
              "    border-color: transparent;\n",
              "    border-bottom-color: var(--fill-color);\n",
              "    animation:\n",
              "      spin 1s steps(1) infinite;\n",
              "  }\n",
              "\n",
              "  @keyframes spin {\n",
              "    0% {\n",
              "      border-color: transparent;\n",
              "      border-bottom-color: var(--fill-color);\n",
              "      border-left-color: var(--fill-color);\n",
              "    }\n",
              "    20% {\n",
              "      border-color: transparent;\n",
              "      border-left-color: var(--fill-color);\n",
              "      border-top-color: var(--fill-color);\n",
              "    }\n",
              "    30% {\n",
              "      border-color: transparent;\n",
              "      border-left-color: var(--fill-color);\n",
              "      border-top-color: var(--fill-color);\n",
              "      border-right-color: var(--fill-color);\n",
              "    }\n",
              "    40% {\n",
              "      border-color: transparent;\n",
              "      border-right-color: var(--fill-color);\n",
              "      border-top-color: var(--fill-color);\n",
              "    }\n",
              "    60% {\n",
              "      border-color: transparent;\n",
              "      border-right-color: var(--fill-color);\n",
              "    }\n",
              "    80% {\n",
              "      border-color: transparent;\n",
              "      border-right-color: var(--fill-color);\n",
              "      border-bottom-color: var(--fill-color);\n",
              "    }\n",
              "    90% {\n",
              "      border-color: transparent;\n",
              "      border-bottom-color: var(--fill-color);\n",
              "    }\n",
              "  }\n",
              "</style>\n",
              "\n",
              "  <script>\n",
              "    async function quickchart(key) {\n",
              "      const quickchartButtonEl =\n",
              "        document.querySelector('#' + key + ' button');\n",
              "      quickchartButtonEl.disabled = true;  // To prevent multiple clicks.\n",
              "      quickchartButtonEl.classList.add('colab-df-spinner');\n",
              "      try {\n",
              "        const charts = await google.colab.kernel.invokeFunction(\n",
              "            'suggestCharts', [key], {});\n",
              "      } catch (error) {\n",
              "        console.error('Error during call to suggestCharts:', error);\n",
              "      }\n",
              "      quickchartButtonEl.classList.remove('colab-df-spinner');\n",
              "      quickchartButtonEl.classList.add('colab-df-quickchart-complete');\n",
              "    }\n",
              "    (() => {\n",
              "      let quickchartButtonEl =\n",
              "        document.querySelector('#df-88b4fb53-8cac-43d2-9f3a-dc396e916e03 button');\n",
              "      quickchartButtonEl.style.display =\n",
              "        google.colab.kernel.accessAllowed ? 'block' : 'none';\n",
              "    })();\n",
              "  </script>\n",
              "</div>\n",
              "    </div>\n",
              "  </div>\n"
            ]
          },
          "metadata": {},
          "execution_count": 12
        }
      ],
      "source": [
        "import pandas as pd\n",
        "from sklearn.model_selection import train_test_split\n",
        "from sklearn.svm import SVC\n",
        "from sklearn.preprocessing import StandardScaler\n",
        "from sklearn.metrics import confusion_matrix, classification_report\n",
        "from sklearn.model_selection import GridSearchCV\n",
        "from sklearn.model_selection import cross_val_score\n",
        "from sklearn.model_selection import cross_val_predict\n",
        "import seaborn as sns\n",
        "import matplotlib.pyplot as plt\n",
        "import numpy as np\n",
        "\n",
        "file_path = '/content/drive/MyDrive/CS Foundation Courses/Text Mining/Code/FinalDataSet.csv'\n",
        "df = pd.read_csv(file_path)\n",
        "df.head()"
      ]
    },
    {
      "cell_type": "markdown",
      "source": [
        "# Grid Search for Most Optimal Model"
      ],
      "metadata": {
        "id": "XHDSt7xNIWle"
      }
    },
    {
      "cell_type": "markdown",
      "source": [
        "## First Iteration"
      ],
      "metadata": {
        "id": "Ux6OYBygVcsR"
      }
    },
    {
      "cell_type": "markdown",
      "source": [
        "Best Model: C = 5.0, gamma = auto, kernel = rbf\n",
        "* best cv: 82.4%"
      ],
      "metadata": {
        "id": "CaPaBE53Y4Tc"
      }
    },
    {
      "cell_type": "code",
      "source": [
        "# Assuming df is your DataFrame and it's already loaded\n",
        "df_numeric = df[['Average Word Length', 'Flesch Reading Ease', 'Flesch-Kincaid Grade Level', 'Coleman-Liau Index', 'Gunning Fog Index']]\n",
        "X = df_numeric  # Features\n",
        "\n",
        "\n",
        "# Map 'Real' to 0 and 'AI' to 1\n",
        "df['Class'] = df['Class'].map({'Real': 0, 'AI': 1})\n",
        "y = df['Class']  # Target\n",
        "\n",
        "# It's a good practice to scale our data\n",
        "scaler = StandardScaler()\n",
        "X_scaled = scaler.fit_transform(X)\n",
        "\n",
        "# Split the data into training and testing sets\n",
        "X_train, X_test, y_train, y_test = train_test_split(X_scaled, y, test_size=0.2, random_state=42)\n"
      ],
      "metadata": {
        "id": "vAy9dIEJIcxc"
      },
      "execution_count": null,
      "outputs": []
    },
    {
      "cell_type": "code",
      "source": [
        "param_grid = {\n",
        "    'C': [0.1, 0.5, 1.0, 5.0, 7.0],\n",
        "    'gamma': ['auto', 0.1, 1, 10],\n",
        "    'kernel': ['rbf']\n",
        "}\n",
        "\n",
        "# Create the GridSearchCV object\n",
        "grid_search = GridSearchCV(SVC(random_state=42), param_grid, cv=5)\n",
        "\n",
        "grid_search.fit(X_train, y_train)\n",
        "\n",
        "# Get the best parameters and model\n",
        "best_params = grid_search.best_params_\n",
        "best_model = grid_search.best_estimator_\n",
        "\n",
        "# Print the results\n",
        "print(\"Grid Search Results:\")\n",
        "print(\"Best Parameters: \", best_params)\n",
        "print(\"\\nBest Estimator: \", best_model)\n",
        "\n",
        "# Access the CV results\n",
        "cv_results = grid_search.cv_results_\n",
        "\n",
        "# Print mean test scores for each combination of parameters\n",
        "print(\"\\nMean Test Scores for each parameter combination:\")\n",
        "for mean_score, params in zip(cv_results['mean_test_score'], cv_results['params']):\n",
        "    print(f\"Mean Test Score: {mean_score:.3f}, Parameters: {params}\")"
      ],
      "metadata": {
        "colab": {
          "base_uri": "https://localhost:8080/"
        },
        "id": "4rvnbqOlOXmD",
        "outputId": "03e00efe-225f-47fe-8f1d-c1172cd2e7d1"
      },
      "execution_count": null,
      "outputs": [
        {
          "output_type": "stream",
          "name": "stdout",
          "text": [
            "Grid Search Results:\n",
            "Best Parameters:  {'C': 5.0, 'gamma': 'auto', 'kernel': 'rbf'}\n",
            "\n",
            "Best Estimator:  SVC(C=5.0, gamma='auto', random_state=42)\n",
            "\n",
            "Mean Test Scores for each parameter combination:\n",
            "Mean Test Score: 0.756, Parameters: {'C': 0.1, 'gamma': 'auto', 'kernel': 'rbf'}\n",
            "Mean Test Score: 0.747, Parameters: {'C': 0.1, 'gamma': 0.1, 'kernel': 'rbf'}\n",
            "Mean Test Score: 0.762, Parameters: {'C': 0.1, 'gamma': 1, 'kernel': 'rbf'}\n",
            "Mean Test Score: 0.699, Parameters: {'C': 0.1, 'gamma': 10, 'kernel': 'rbf'}\n",
            "Mean Test Score: 0.788, Parameters: {'C': 0.5, 'gamma': 'auto', 'kernel': 'rbf'}\n",
            "Mean Test Score: 0.782, Parameters: {'C': 0.5, 'gamma': 0.1, 'kernel': 'rbf'}\n",
            "Mean Test Score: 0.791, Parameters: {'C': 0.5, 'gamma': 1, 'kernel': 'rbf'}\n",
            "Mean Test Score: 0.770, Parameters: {'C': 0.5, 'gamma': 10, 'kernel': 'rbf'}\n",
            "Mean Test Score: 0.800, Parameters: {'C': 1.0, 'gamma': 'auto', 'kernel': 'rbf'}\n",
            "Mean Test Score: 0.800, Parameters: {'C': 1.0, 'gamma': 0.1, 'kernel': 'rbf'}\n",
            "Mean Test Score: 0.806, Parameters: {'C': 1.0, 'gamma': 1, 'kernel': 'rbf'}\n",
            "Mean Test Score: 0.788, Parameters: {'C': 1.0, 'gamma': 10, 'kernel': 'rbf'}\n",
            "Mean Test Score: 0.824, Parameters: {'C': 5.0, 'gamma': 'auto', 'kernel': 'rbf'}\n",
            "Mean Test Score: 0.822, Parameters: {'C': 5.0, 'gamma': 0.1, 'kernel': 'rbf'}\n",
            "Mean Test Score: 0.815, Parameters: {'C': 5.0, 'gamma': 1, 'kernel': 'rbf'}\n",
            "Mean Test Score: 0.777, Parameters: {'C': 5.0, 'gamma': 10, 'kernel': 'rbf'}\n",
            "Mean Test Score: 0.824, Parameters: {'C': 7.0, 'gamma': 'auto', 'kernel': 'rbf'}\n",
            "Mean Test Score: 0.823, Parameters: {'C': 7.0, 'gamma': 0.1, 'kernel': 'rbf'}\n",
            "Mean Test Score: 0.819, Parameters: {'C': 7.0, 'gamma': 1, 'kernel': 'rbf'}\n",
            "Mean Test Score: 0.774, Parameters: {'C': 7.0, 'gamma': 10, 'kernel': 'rbf'}\n"
          ]
        }
      ]
    },
    {
      "cell_type": "code",
      "source": [
        "# Best parameters for the first set\n",
        "best_params_1 = {'C': 5.0, 'gamma': 'auto', 'kernel': 'rbf'}\n",
        "\n",
        "# Best parameters for the second set\n",
        "best_params_2 = {'C': 7.0, 'gamma': 0.1, 'kernel': 'rbf'}\n",
        "\n",
        "# Create SVM models with the best parameters\n",
        "svm_model_1 = SVC(**best_params_1, random_state=42)\n",
        "svm_model_2 = SVC(**best_params_2, random_state=42)\n",
        "\n",
        "# Perform cross-validation for each model\n",
        "cv_scores_1 = cross_val_score(svm_model_1, X_train, y_train, cv=5)\n",
        "cv_scores_2 = cross_val_score(svm_model_2, X_train, y_train, cv=5)\n",
        "\n",
        "# Print the cross-validation scores\n",
        "print(\"Cross-Validation Scores for Model 1:\", cv_scores_1)\n",
        "print(\"Average Cross-Validation Score for Model 1:\", pd.Series(cv_scores_1).mean())\n",
        "\n",
        "print(\"\\nCross-Validation Scores for Model 2:\", cv_scores_2)\n",
        "print(\"Average Cross-Validation Score for Model 2:\", pd.Series(cv_scores_2).mean())"
      ],
      "metadata": {
        "colab": {
          "base_uri": "https://localhost:8080/"
        },
        "id": "5suSRivpQmGU",
        "outputId": "31d8fdc9-050c-4adf-8939-ee9b7a53d6db"
      },
      "execution_count": null,
      "outputs": [
        {
          "output_type": "stream",
          "name": "stdout",
          "text": [
            "Cross-Validation Scores for Model 1: [0.82947368 0.81052632 0.82489451 0.8185654  0.83755274]\n",
            "Average Cross-Validation Score for Model 1: 0.8242025316455697\n",
            "\n",
            "Cross-Validation Scores for Model 2: [0.82105263 0.81263158 0.82700422 0.82278481 0.83333333]\n",
            "Average Cross-Validation Score for Model 2: 0.8233613146791028\n"
          ]
        }
      ]
    },
    {
      "cell_type": "markdown",
      "source": [
        "## Second Iteration"
      ],
      "metadata": {
        "id": "VH__ASwaVm-x"
      }
    },
    {
      "cell_type": "markdown",
      "source": [
        "Best Model: C = 7.0, gamma = .3, kernel = rbf\n",
        "* Mean_CV = 82.6%"
      ],
      "metadata": {
        "id": "OxuauZjXY23D"
      }
    },
    {
      "cell_type": "code",
      "source": [
        "# Define the refined parameter grid\n",
        "refined_param_grid = {\n",
        "    'C': [4, 5, 6, 7, 8],\n",
        "    'gamma': [0.05, 0.1, 0.15, 0.2, 0.25, 0.3],\n",
        "    'kernel': ['rbf']\n",
        "}\n",
        "\n",
        "# Create the GridSearchCV object\n",
        "refined_grid_search = GridSearchCV(SVC(random_state=42), refined_param_grid, cv=5)\n",
        "\n",
        "# Fit the grid search to the data\n",
        "refined_grid_search.fit(X_train, y_train)\n",
        "\n",
        "# Get the best parameters and model\n",
        "best_refined_params = refined_grid_search.best_params_\n",
        "best_refined_model = refined_grid_search.best_estimator_\n",
        "\n",
        "# Print the results\n",
        "print(\"Refined Grid Search Results:\")\n",
        "print(\"Best Parameters: \", best_refined_params)\n",
        "print(\"\\nBest Estimator: \", best_refined_model)\n",
        "\n",
        "# Access the CV results\n",
        "refined_cv_results = refined_grid_search.cv_results_\n",
        "\n",
        "# Print mean test scores for each combination of parameters\n",
        "print(\"\\nMean Test Scores for each parameter combination:\")\n",
        "for mean_score, params in zip(refined_cv_results['mean_test_score'], refined_cv_results['params']):\n",
        "    print(f\"Mean Test Score: {mean_score:.3f}, Parameters: {params}\")\n"
      ],
      "metadata": {
        "colab": {
          "base_uri": "https://localhost:8080/"
        },
        "id": "lphwA6itTlXp",
        "outputId": "628194c4-b738-43e3-b370-b8f58ca23d2f"
      },
      "execution_count": null,
      "outputs": [
        {
          "output_type": "stream",
          "name": "stdout",
          "text": [
            "Refined Grid Search Results:\n",
            "Best Parameters:  {'C': 7, 'gamma': 0.3, 'kernel': 'rbf'}\n",
            "\n",
            "Best Estimator:  SVC(C=7, gamma=0.3, random_state=42)\n",
            "\n",
            "Mean Test Scores for each parameter combination:\n",
            "Mean Test Score: 0.815, Parameters: {'C': 4, 'gamma': 0.05, 'kernel': 'rbf'}\n",
            "Mean Test Score: 0.817, Parameters: {'C': 4, 'gamma': 0.1, 'kernel': 'rbf'}\n",
            "Mean Test Score: 0.823, Parameters: {'C': 4, 'gamma': 0.15, 'kernel': 'rbf'}\n",
            "Mean Test Score: 0.824, Parameters: {'C': 4, 'gamma': 0.2, 'kernel': 'rbf'}\n",
            "Mean Test Score: 0.823, Parameters: {'C': 4, 'gamma': 0.25, 'kernel': 'rbf'}\n",
            "Mean Test Score: 0.822, Parameters: {'C': 4, 'gamma': 0.3, 'kernel': 'rbf'}\n",
            "Mean Test Score: 0.817, Parameters: {'C': 5, 'gamma': 0.05, 'kernel': 'rbf'}\n",
            "Mean Test Score: 0.822, Parameters: {'C': 5, 'gamma': 0.1, 'kernel': 'rbf'}\n",
            "Mean Test Score: 0.823, Parameters: {'C': 5, 'gamma': 0.15, 'kernel': 'rbf'}\n",
            "Mean Test Score: 0.824, Parameters: {'C': 5, 'gamma': 0.2, 'kernel': 'rbf'}\n",
            "Mean Test Score: 0.822, Parameters: {'C': 5, 'gamma': 0.25, 'kernel': 'rbf'}\n",
            "Mean Test Score: 0.821, Parameters: {'C': 5, 'gamma': 0.3, 'kernel': 'rbf'}\n",
            "Mean Test Score: 0.819, Parameters: {'C': 6, 'gamma': 0.05, 'kernel': 'rbf'}\n",
            "Mean Test Score: 0.823, Parameters: {'C': 6, 'gamma': 0.1, 'kernel': 'rbf'}\n",
            "Mean Test Score: 0.823, Parameters: {'C': 6, 'gamma': 0.15, 'kernel': 'rbf'}\n",
            "Mean Test Score: 0.823, Parameters: {'C': 6, 'gamma': 0.2, 'kernel': 'rbf'}\n",
            "Mean Test Score: 0.823, Parameters: {'C': 6, 'gamma': 0.25, 'kernel': 'rbf'}\n",
            "Mean Test Score: 0.823, Parameters: {'C': 6, 'gamma': 0.3, 'kernel': 'rbf'}\n",
            "Mean Test Score: 0.823, Parameters: {'C': 7, 'gamma': 0.05, 'kernel': 'rbf'}\n",
            "Mean Test Score: 0.823, Parameters: {'C': 7, 'gamma': 0.1, 'kernel': 'rbf'}\n",
            "Mean Test Score: 0.825, Parameters: {'C': 7, 'gamma': 0.15, 'kernel': 'rbf'}\n",
            "Mean Test Score: 0.824, Parameters: {'C': 7, 'gamma': 0.2, 'kernel': 'rbf'}\n",
            "Mean Test Score: 0.824, Parameters: {'C': 7, 'gamma': 0.25, 'kernel': 'rbf'}\n",
            "Mean Test Score: 0.826, Parameters: {'C': 7, 'gamma': 0.3, 'kernel': 'rbf'}\n",
            "Mean Test Score: 0.824, Parameters: {'C': 8, 'gamma': 0.05, 'kernel': 'rbf'}\n",
            "Mean Test Score: 0.824, Parameters: {'C': 8, 'gamma': 0.1, 'kernel': 'rbf'}\n",
            "Mean Test Score: 0.825, Parameters: {'C': 8, 'gamma': 0.15, 'kernel': 'rbf'}\n",
            "Mean Test Score: 0.825, Parameters: {'C': 8, 'gamma': 0.2, 'kernel': 'rbf'}\n",
            "Mean Test Score: 0.825, Parameters: {'C': 8, 'gamma': 0.25, 'kernel': 'rbf'}\n",
            "Mean Test Score: 0.826, Parameters: {'C': 8, 'gamma': 0.3, 'kernel': 'rbf'}\n"
          ]
        }
      ]
    },
    {
      "cell_type": "code",
      "source": [
        "# Best parameters for the first set\n",
        "best_params_1 = {'C': 7.0, 'gamma': .3, 'kernel': 'rbf'}\n",
        "\n",
        "# Best parameters for the second set\n",
        "best_params_2 = {'C': 8.0, 'gamma': 0.3, 'kernel': 'rbf'}\n",
        "\n",
        "# SVMs\n",
        "svm_model_1 = SVC(**best_params_1, random_state=42)\n",
        "svm_model_2 = SVC(**best_params_2, random_state=42)\n",
        "\n",
        "# Cross Val\n",
        "cv_scores_1 = cross_val_score(svm_model_1, X_train, y_train, cv=5)\n",
        "cv_scores_2 = cross_val_score(svm_model_2, X_train, y_train, cv=5)\n",
        "\n",
        "# Print Scores\n",
        "print(\"Cross-Validation Scores for Model 1:\", cv_scores_1)\n",
        "print(\"Average Cross-Validation Score for Model 1:\", pd.Series(cv_scores_1).mean())\n",
        "\n",
        "print(\"\\nCross-Validation Scores for Model 2:\", cv_scores_2)\n",
        "print(\"Average Cross-Validation Score for Model 2:\", pd.Series(cv_scores_2).mean())"
      ],
      "metadata": {
        "colab": {
          "base_uri": "https://localhost:8080/"
        },
        "id": "iWfE-ui2USAF",
        "outputId": "f15a9037-15ac-4566-bff1-2820fda752c1"
      },
      "execution_count": null,
      "outputs": [
        {
          "output_type": "stream",
          "name": "stdout",
          "text": [
            "Cross-Validation Scores for Model 1: [0.83789474 0.81263158 0.82700422 0.81434599 0.83755274]\n",
            "Average Cross-Validation Score for Model 1: 0.8258858538751943\n",
            "\n",
            "Cross-Validation Scores for Model 2: [0.83578947 0.81684211 0.82700422 0.81434599 0.83544304]\n",
            "Average Cross-Validation Score for Model 2: 0.8258849655785031\n"
          ]
        }
      ]
    },
    {
      "cell_type": "markdown",
      "source": [
        "## Third Iteration"
      ],
      "metadata": {
        "id": "UYB1pymYVqp_"
      }
    },
    {
      "cell_type": "markdown",
      "source": [
        "No improvements at all, stopping model search"
      ],
      "metadata": {
        "id": "6VHjglVeXoGc"
      }
    },
    {
      "cell_type": "code",
      "source": [
        "# Define the refined parameter grid\n",
        "refined_param_grid = {\n",
        "    'C': [7, 7.5, 8, 8.5],\n",
        "    'gamma': [0.25, .275, 0.3, .325, 0.35],\n",
        "    'kernel': ['rbf']\n",
        "}\n",
        "\n",
        "# Create the GridSearchCV object\n",
        "refined_grid_search = GridSearchCV(SVC(random_state=42), refined_param_grid, cv=5)\n",
        "\n",
        "# Fit the grid search to the data\n",
        "refined_grid_search.fit(X_train, y_train)\n",
        "\n",
        "# Get the best parameters and model\n",
        "best_refined_params = refined_grid_search.best_params_\n",
        "best_refined_model = refined_grid_search.best_estimator_\n",
        "\n",
        "# Print the results\n",
        "print(\"Refined Grid Search Results:\")\n",
        "print(\"Best Parameters: \", best_refined_params)\n",
        "print(\"\\nBest Estimator: \", best_refined_model)\n",
        "\n",
        "# Access the CV results\n",
        "refined_cv_results = refined_grid_search.cv_results_\n",
        "\n",
        "# Print mean test scores for each combination of parameters\n",
        "print(\"\\nMean Test Scores for each parameter combination:\")\n",
        "for mean_score, params in zip(refined_cv_results['mean_test_score'], refined_cv_results['params']):\n",
        "    print(f\"Mean Test Score: {mean_score:.3f}, Parameters: {params}\")\n"
      ],
      "metadata": {
        "colab": {
          "base_uri": "https://localhost:8080/"
        },
        "id": "aEhxDMl8VKRW",
        "outputId": "cd252d1b-bdad-4c31-d510-325c06bb4e05"
      },
      "execution_count": null,
      "outputs": [
        {
          "output_type": "stream",
          "name": "stdout",
          "text": [
            "Refined Grid Search Results:\n",
            "Best Parameters:  {'C': 7.5, 'gamma': 0.25, 'kernel': 'rbf'}\n",
            "\n",
            "Best Estimator:  SVC(C=7.5, gamma=0.25, random_state=42)\n",
            "\n",
            "Mean Test Scores for each parameter combination:\n",
            "Mean Test Score: 0.824, Parameters: {'C': 7, 'gamma': 0.25, 'kernel': 'rbf'}\n",
            "Mean Test Score: 0.824, Parameters: {'C': 7, 'gamma': 0.275, 'kernel': 'rbf'}\n",
            "Mean Test Score: 0.826, Parameters: {'C': 7, 'gamma': 0.3, 'kernel': 'rbf'}\n",
            "Mean Test Score: 0.822, Parameters: {'C': 7, 'gamma': 0.325, 'kernel': 'rbf'}\n",
            "Mean Test Score: 0.822, Parameters: {'C': 7, 'gamma': 0.35, 'kernel': 'rbf'}\n",
            "Mean Test Score: 0.826, Parameters: {'C': 7.5, 'gamma': 0.25, 'kernel': 'rbf'}\n",
            "Mean Test Score: 0.825, Parameters: {'C': 7.5, 'gamma': 0.275, 'kernel': 'rbf'}\n",
            "Mean Test Score: 0.824, Parameters: {'C': 7.5, 'gamma': 0.3, 'kernel': 'rbf'}\n",
            "Mean Test Score: 0.823, Parameters: {'C': 7.5, 'gamma': 0.325, 'kernel': 'rbf'}\n",
            "Mean Test Score: 0.822, Parameters: {'C': 7.5, 'gamma': 0.35, 'kernel': 'rbf'}\n",
            "Mean Test Score: 0.825, Parameters: {'C': 8, 'gamma': 0.25, 'kernel': 'rbf'}\n",
            "Mean Test Score: 0.824, Parameters: {'C': 8, 'gamma': 0.275, 'kernel': 'rbf'}\n",
            "Mean Test Score: 0.826, Parameters: {'C': 8, 'gamma': 0.3, 'kernel': 'rbf'}\n",
            "Mean Test Score: 0.823, Parameters: {'C': 8, 'gamma': 0.325, 'kernel': 'rbf'}\n",
            "Mean Test Score: 0.824, Parameters: {'C': 8, 'gamma': 0.35, 'kernel': 'rbf'}\n",
            "Mean Test Score: 0.825, Parameters: {'C': 8.5, 'gamma': 0.25, 'kernel': 'rbf'}\n",
            "Mean Test Score: 0.825, Parameters: {'C': 8.5, 'gamma': 0.275, 'kernel': 'rbf'}\n",
            "Mean Test Score: 0.825, Parameters: {'C': 8.5, 'gamma': 0.3, 'kernel': 'rbf'}\n",
            "Mean Test Score: 0.823, Parameters: {'C': 8.5, 'gamma': 0.325, 'kernel': 'rbf'}\n",
            "Mean Test Score: 0.824, Parameters: {'C': 8.5, 'gamma': 0.35, 'kernel': 'rbf'}\n"
          ]
        }
      ]
    },
    {
      "cell_type": "markdown",
      "source": [
        "## Data Visuals"
      ],
      "metadata": {
        "id": "2FJtJUeVYOCu"
      }
    },
    {
      "cell_type": "markdown",
      "source": [
        "Confusion Matrix"
      ],
      "metadata": {
        "id": "_7hQQQQ7aYmt"
      }
    },
    {
      "cell_type": "code",
      "source": [
        "# Cross-validation predictions\n",
        "cv_predictions_1 = cross_val_predict(svm_model_1, X_train, y_train, cv=5)\n",
        "\n",
        "# Confusion matrix\n",
        "conf_matrix_1 = confusion_matrix(y_train, cv_predictions_1)\n",
        "\n",
        "# Plot confusion matrix using seaborn\n",
        "plt.figure(figsize=(8, 6))\n",
        "sns.heatmap(conf_matrix_1, annot=True, fmt=\"d\", cmap=\"Blues\", cbar=False,\n",
        "            xticklabels=['Real', 'AI'], yticklabels=['Real', 'AI'])\n",
        "plt.title('Confusion Matrix')\n",
        "plt.xlabel('Predicted')\n",
        "plt.ylabel('Actual')\n",
        "plt.show()"
      ],
      "metadata": {
        "colab": {
          "base_uri": "https://localhost:8080/",
          "height": 564
        },
        "id": "GjKx26E3YT-V",
        "outputId": "3bee3897-e74c-4275-d2b9-ccf32d28a4b7"
      },
      "execution_count": null,
      "outputs": [
        {
          "output_type": "display_data",
          "data": {
            "text/plain": [
              "<Figure size 800x600 with 1 Axes>"
            ],
            "image/png": "[encoded data removed]"
          },
          "metadata": {}
        }
      ]
    },
    {
      "cell_type": "code",
      "source": [
        "#"
      ],
      "metadata": {
        "id": "4OD8Gev00fF_"
      },
      "execution_count": null,
      "outputs": []
    },
    {
      "cell_type": "markdown",
      "source": [
        "General Data Statistics and Visuals"
      ],
      "metadata": {
        "id": "R07iXVDma1vY"
      }
    },
    {
      "cell_type": "code",
      "source": [
        "real_articles = df[df['Class'] == 'Real']\n",
        "ai_articles = df[df['Class'] == 'AI']\n",
        "\n",
        "# Calculate average word length for each group\n",
        "average_word_length_real = real_articles['Average Word Length'].mean()\n",
        "average_word_length_ai = ai_articles['Average Word Length'].mean()\n",
        "\n",
        "# Print the results\n",
        "print(\"Average Word Length for Real Articles:\", average_word_length_real)\n",
        "print(\"Average Word Length for AI Articles:\", average_word_length_ai)\n",
        "print(\"--\")\n",
        "\n",
        "# Create a horizontal box plot\n",
        "plt.figure(figsize=(10, 6))\n",
        "sns.boxplot(y='Class', x='Average Word Length', data=df, orient='h')\n",
        "plt.title('Box Plot of Average Word Length for Real and AI Articles')\n",
        "plt.xlabel('Average Word Length')\n",
        "plt.ylabel('Article Class')\n",
        "plt.show()"
      ],
      "metadata": {
        "colab": {
          "base_uri": "https://localhost:8080/",
          "height": 616
        },
        "id": "mynjs0sEZ-6_",
        "outputId": "4470d08b-bf4e-4fd0-81d3-a511f809589b"
      },
      "execution_count": null,
      "outputs": [
        {
          "output_type": "stream",
          "name": "stdout",
          "text": [
            "Average Word Length for Real Articles: 5.043610276832809\n",
            "Average Word Length for AI Articles: 5.309632103654479\n",
            "--\n"
          ]
        },
        {
          "output_type": "display_data",
          "data": {
            "text/plain": [
              "<Figure size 1000x600 with 1 Axes>"
            ],
            "image/png": "[encoded data removed]"
          },
          "metadata": {}
        }
      ]
    },
    {
      "cell_type": "code",
      "source": [
        "real_articles = df[df['Class'] == 'Real'].copy()\n",
        "ai_articles = df[df['Class'] == 'AI'].copy()\n",
        "\n",
        "\n",
        "# Function to calculate average sentence length\n",
        "def average_sentence_length(text):\n",
        "    sentences = text.split('.')  # Split text into sentences\n",
        "    sentence_lengths = [len(sentence.split()) for sentence in sentences]  # Calculate the length of each sentence\n",
        "    return np.mean(sentence_lengths)  # Return the average sentence length\n",
        "\n",
        "# Calculate the average sentence length for each record (article) in Real articles\n",
        "real_articles.loc[:, 'Average Sentence Length'] = real_articles['Article text'].apply(average_sentence_length)\n",
        "\n",
        "# Calculate the average sentence length for each record (article) in AI articles\n",
        "ai_articles.loc[:, 'Average Sentence Length'] = ai_articles['Article text'].apply(average_sentence_length)\n",
        "\n",
        "# Calculate the overall average sentence length for Real and AI articles\n",
        "overall_average_sentence_length_real = real_articles['Average Sentence Length'].mean()\n",
        "overall_average_sentence_length_ai = ai_articles['Average Sentence Length'].mean()\n",
        "\n",
        "# Display the overall average sentence length for Real and AI articles\n",
        "print(\"Overall Average Sentence Length for Real Articles:\", overall_average_sentence_length_real)\n",
        "print(\"Overall Average Sentence Length for AI Articles:\", overall_average_sentence_length_ai)\n"
      ],
      "metadata": {
        "colab": {
          "base_uri": "https://localhost:8080/"
        },
        "id": "5a858f1SeWbS",
        "outputId": "3d587fb1-6e48-4e4f-e6ae-6d3b316192b9"
      },
      "execution_count": null,
      "outputs": [
        {
          "output_type": "stream",
          "name": "stdout",
          "text": [
            "Overall Average Sentence Length for Real Articles: 19.751003956542267\n",
            "Overall Average Sentence Length for AI Articles: 19.111042229690362\n"
          ]
        }
      ]
    },
    {
      "cell_type": "code",
      "source": [
        "# Function to calculate the number of sentences in an article\n",
        "def number_of_sentences(text):\n",
        "    sentences = text.split('.')  # Split text into sentences\n",
        "    return len(sentences)  # Return the number of sentences\n",
        "\n",
        "# Calculate the number of sentences for each record (article) in Real articles\n",
        "real_articles['Number of Sentences'] = real_articles['Article text'].apply(number_of_sentences)\n",
        "\n",
        "# Calculate the number of sentences for each record (article) in AI articles\n",
        "ai_articles['Number of Sentences'] = ai_articles['Article text'].apply(number_of_sentences)\n",
        "\n",
        "# Calculate the overall average number of sentences for Real and AI articles\n",
        "overall_average_sentences_real = real_articles['Number of Sentences'].mean()\n",
        "overall_average_sentences_ai = ai_articles['Number of Sentences'].mean()\n",
        "\n",
        "# Display the overall average number of sentences for Real and AI articles\n",
        "print(\"Overall Average Number of Sentences for Real Articles:\", overall_average_sentences_real)\n",
        "print(\"Overall Average Number of Sentences for AI Articles:\", overall_average_sentences_ai)\n",
        "\n"
      ],
      "metadata": {
        "colab": {
          "base_uri": "https://localhost:8080/"
        },
        "id": "kkcevvn6fCm8",
        "outputId": "0b580190-3bb2-479f-b50b-238494fc9619"
      },
      "execution_count": null,
      "outputs": [
        {
          "output_type": "stream",
          "name": "stdout",
          "text": [
            "Overall Average Number of Sentences for Real Articles: 17.546190155091033\n",
            "Overall Average Number of Sentences for AI Articles: 18.759271746459877\n"
          ]
        }
      ]
    },
    {
      "cell_type": "code",
      "source": [
        "# Function to calculate average sentence length\n",
        "def average_sentence_length(text):\n",
        "    sentences = text.split('.')  # Split text into sentences\n",
        "    sentence_lengths = [len(sentence.split()) for sentence in sentences]  # Calculate the length of each sentence\n",
        "    return np.mean(sentence_lengths)  # Return the average sentence length\n",
        "\n",
        "# Calculate average word length for each group\n",
        "average_word_length_real = real_articles['Average Word Length'].mean()\n",
        "average_word_length_ai = ai_articles['Average Word Length'].mean()\n",
        "\n",
        "# Calculate the overall average sentence length for Real and AI articles\n",
        "overall_average_sentence_length_real = real_articles['Article text'].apply(average_sentence_length).mean()\n",
        "overall_average_sentence_length_ai = ai_articles['Article text'].apply(average_sentence_length).mean()\n",
        "\n",
        "# Function to calculate the number of sentences in an article\n",
        "def number_of_sentences(text):\n",
        "    sentences = text.split('.')  # Split text into sentences\n",
        "    return len(sentences)  # Return the number of sentences\n",
        "\n",
        "# Calculate the overall average number of sentences for Real and AI articles\n",
        "overall_average_sentences_real = real_articles['Article text'].apply(number_of_sentences).mean()\n",
        "overall_average_sentences_ai = ai_articles['Article text'].apply(number_of_sentences).mean()\n",
        "\n",
        "# Create a transposed DataFrame to display the differences\n",
        "data = {\n",
        "    'Avg Word Len': [round(average_word_length_real, 2), round(average_word_length_ai, 2)],\n",
        "    'Avg Sentence Len': [round(overall_average_sentence_length_real, 2), round(overall_average_sentence_length_ai, 2)],\n",
        "    'Avg # of Sentences': [round(overall_average_sentences_real, 2), round(overall_average_sentences_ai, 2)]\n",
        "}\n",
        "\n",
        "results_df = pd.DataFrame(data, index=['Real', 'AI']).T\n",
        "\n",
        "# Display the DataFrame\n",
        "print(results_df)"
      ],
      "metadata": {
        "colab": {
          "base_uri": "https://localhost:8080/"
        },
        "id": "ZaZHtemdvTWw",
        "outputId": "bac1db8c-af69-40c0-85e8-92316d0c777b"
      },
      "execution_count": null,
      "outputs": [
        {
          "output_type": "stream",
          "name": "stdout",
          "text": [
            "                     Real     AI\n",
            "Avg Word Len         5.04   5.31\n",
            "Avg Sentence Len    19.75  19.11\n",
            "Avg # of Sentences  17.55  18.76\n"
          ]
        }
      ]
    }
  ]
}